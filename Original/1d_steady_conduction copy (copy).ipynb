{
 "cells": [
  {
   "cell_type": "code",
   "execution_count": 1,
   "id": "a3786f17",
   "metadata": {
    "id": "a3786f17"
   },
   "outputs": [],
   "source": [
    "import numpy as np\n",
    "import torch\n",
    "import torch.nn as nn\n",
    "import matplotlib.pyplot as plt\n",
    "import torch.optim as optim\n",
    "from torch.optim.lr_scheduler import ReduceLROnPlateau\n",
    "import time\n"
   ]
  },
  {
   "cell_type": "code",
   "execution_count": 2,
   "id": "0d1f1917",
   "metadata": {
    "id": "0d1f1917",
    "outputId": "e3576007-c7b4-4f60-bf1e-5b89de31d2c3"
   },
   "outputs": [
    {
     "data": {
      "text/plain": [
       "device(type='cuda')"
      ]
     },
     "execution_count": 2,
     "metadata": {},
     "output_type": "execute_result"
    }
   ],
   "source": [
    "# Check if CUDA (GPU support) is available\n",
    "device = torch.device(\"cuda\" if torch.cuda.is_available() else \"cpu\")\n",
    "device"
   ]
  },
  {
   "cell_type": "code",
   "execution_count": 3,
   "id": "925e8a54",
   "metadata": {
    "id": "925e8a54"
   },
   "outputs": [],
   "source": [
    "T_i = 500\n",
    "T_f = 100\n",
    "k = 5\n",
    "x = 0\n",
    "dx =   # make trails\n",
    "l = 10\n",
    "x_data = np.arange(x,dx+l, dx)\n",
    "q=1000000"
   ]
  },
  {
   "cell_type": "code",
   "execution_count": 4,
   "id": "17e31cfb",
   "metadata": {
    "id": "17e31cfb",
    "outputId": "cdd386ed-fdda-4d26-bec2-662b072979a5"
   },
   "outputs": [
    {
     "data": {
      "text/plain": [
       "torch.float32"
      ]
     },
     "execution_count": 4,
     "metadata": {},
     "output_type": "execute_result"
    }
   ],
   "source": [
    "x_data=torch.from_numpy(x_data.astype(np.float32))\n",
    "x_data=x_data.view(x_data.shape[0],1).to(device)\n",
    "x_data.dtype"
   ]
  },
  {
   "cell_type": "code",
   "execution_count": 5,
   "id": "8ad88b2d",
   "metadata": {
    "id": "8ad88b2d"
   },
   "outputs": [],
   "source": [
    "class PINN(nn.Module): # make trials on num of neurons, layers and activation fn\n",
    "    def __init__(self):\n",
    "        super(PINN, self).__init__()\n",
    "        self.layers = nn.Sequential(\n",
    "            nn.Linear(1, 31),\n",
    "            nn.Tanh(),\n",
    "            nn.Linear(31, 31),\n",
    "            nn.,  #make trails\n",
    "\n",
    "            nn.Linear(31, 1),\n",
    "\n",
    "        )\n",
    "\n",
    "    def forward(self, x):\n",
    "        return self.layers(x)\n"
   ]
  },
  {
   "cell_type": "code",
   "execution_count": 6,
   "id": "d4a7f26c",
   "metadata": {
    "id": "d4a7f26c"
   },
   "outputs": [],
   "source": [
    "# Define the loss function\n",
    "\n",
    "def pde_loss(model, x_data):\n",
    "    x_data.requires_grad = True\n",
    "    T = model(x_data)\n",
    "\n",
    "    # Compute the first derivative\n",
    "    T_x = torch.autograd.grad(T, x_data, torch.ones_like(T), create_graph=True, retain_graph=True)[0]\n",
    "    T_x = T_x[:, 0]\n",
    "\n",
    "    # Compute the second derivative\n",
    "    T_xx = torch.autograd.grad(T_x, x_data, torch.ones_like(T_x), create_graph=True)[0]\n",
    "    T_xx = T_xx[:, 0]\n",
    "\n",
    "    # Calculate the PDE loss term using your specific PDE equation\n",
    "    # For example, if your PDE is of the form: T_xx - q = 0\n",
    "    pde_term = k*T_xx + q  # Modify this according to your specific PDE\n",
    "\n",
    "    # Compute the loss\n",
    "    loss = torch.mean(torch.square(pde_term))\n",
    "\n",
    "    return loss\n",
    "\n",
    "\n",
    "def initial_boundary_loss(model, device):\n",
    "    x_i = x_data[0]\n",
    "    T_initial_pred = model(x_i)\n",
    "    T_initial_exact = torch.tensor([[T_i]], dtype=torch.float32).to(device)   # Example initial condition\n",
    "    loss = nn.MSELoss()(T_initial_pred, T_initial_exact)\n",
    "    return loss\n",
    "\n",
    "\n",
    "def final_boundary_loss(model, device):\n",
    "    x_f = x_data[-1]\n",
    "    T_final_pred = model(x_f)\n",
    "    T_final_exact = torch.tensor([[T_f]], dtype=torch.float32).to(device)   # Example final condition\n",
    "    loss = nn.MSELoss()(T_final_pred, T_final_exact)\n",
    "    return loss\n"
   ]
  },
  {
   "cell_type": "code",
   "execution_count": 7,
   "id": "b79bbe09",
   "metadata": {
    "id": "b79bbe09"
   },
   "outputs": [],
   "source": [
    "model = PINN().to(device)\n",
    "\n",
    "optimizer = torch.optim.Adam(model.parameters(), lr= )  # make trails for lr"
   ]
  },
  {
   "cell_type": "code",
   "execution_count": 8,
   "id": "1ad20bb5",
   "metadata": {
    "id": "1ad20bb5",
    "outputId": "84f0f071-95dd-4c0c-f29b-f98740a7e2e7"
   },
   "outputs": [
    {
     "name": "stderr",
     "output_type": "stream",
     "text": [
      "/home/krishna/anaconda3/lib/python3.11/site-packages/torch/nn/modules/loss.py:535: UserWarning: Using a target size (torch.Size([1, 1])) that is different to the input size (torch.Size([1])). This will likely lead to incorrect results due to broadcasting. Please ensure they have the same size.\n",
      "  return F.mse_loss(input, target, reduction=self.reduction)\n"
     ]
    },
    {
     "name": "stdout",
     "output_type": "stream",
     "text": [
      "Epoch [0], Total Loss: 1.1673e+05, PDE Loss: 1.0001e+04, Initial boundary Loss: 2.4998e+05, final boundary Loss: 9.9444e+03\n"
     ]
    },
    {
     "name": "stderr",
     "output_type": "stream",
     "text": [
      "/tmp/ipykernel_26852/3882907490.py:28: UserWarning: To copy construct from a tensor, it is recommended to use sourceTensor.clone().detach() or sourceTensor.clone().detach().requires_grad_(True), rather than torch.tensor(sourceTensor).\n",
      "  T_pred = model(torch.tensor(x_data, dtype=torch.float32))\n"
     ]
    },
    {
     "name": "stdout",
     "output_type": "stream",
     "text": [
      "Epoch [1000], Total Loss: 8.7244e+04, PDE Loss: 1.0000e+04, Initial boundary Loss: 1.9274e+05, final boundary Loss: 1.5225e+03\n",
      "Epoch [2000], Total Loss: 6.7284e+04, PDE Loss: 1.0000e+04, Initial boundary Loss: 1.4963e+05, final boundary Loss: 1.7358e+02\n",
      "Epoch [3000], Total Loss: 5.2826e+04, PDE Loss: 1.0000e+04, Initial boundary Loss: 1.1366e+05, final boundary Loss: 3.9528e+03\n",
      "Epoch [4000], Total Loss: 3.5710e+04, PDE Loss: 2.6637e+03, Initial boundary Loss: 7.9520e+04, final boundary Loss: 2.3308e-03\n",
      "Epoch [5000], Total Loss: 2.3614e+04, PDE Loss: 1.5006e+03, Initial boundary Loss: 5.2587e+04, final boundary Loss: 3.4442e-02\n",
      "Epoch [6000], Total Loss: 1.4287e+04, PDE Loss: 1.2205e+03, Initial boundary Loss: 3.1814e+04, final boundary Loss: 4.8673e-02\n",
      "Epoch [7000], Total Loss: 7.5055e+03, PDE Loss: 9.8024e+02, Initial boundary Loss: 1.6712e+04, final boundary Loss: 6.0946e-02\n",
      "Epoch [8000], Total Loss: 3.1010e+03, PDE Loss: 8.2671e+02, Initial boundary Loss: 6.9026e+03, final boundary Loss: 7.2064e-02\n",
      "Epoch [9000], Total Loss: 7.9928e+02, PDE Loss: 7.5066e+02, Initial boundary Loss: 1.7767e+03, final boundary Loss: 8.1894e-02\n",
      "Epoch [10000], Total Loss: 6.5844e+01, PDE Loss: 6.9939e+02, Initial boundary Loss: 1.4345e+02, final boundary Loss: 8.3597e-02\n",
      "Epoch [11000], Total Loss: 1.5641e+00, PDE Loss: 6.9093e+02, Initial boundary Loss: 3.2456e-01, final boundary Loss: 8.1345e-02\n",
      "Epoch [12000], Total Loss: 1.4274e+00, PDE Loss: 6.9549e+02, Initial boundary Loss: 3.7909e-04, final boundary Loss: 8.0632e-02\n",
      "Epoch [13000], Total Loss: 1.2957e+00, PDE Loss: 6.2390e+02, Initial boundary Loss: 2.0547e-02, final boundary Loss: 8.6211e-02\n",
      "Epoch [14000], Total Loss: 1.1066e+00, PDE Loss: 5.3015e+02, Initial boundary Loss: 1.0849e-02, final boundary Loss: 9.2152e-02\n",
      "Epoch [15000], Total Loss: 8.3486e-01, PDE Loss: 3.9382e+02, Initial boundary Loss: 4.0177e-03, final boundary Loss: 1.0115e-01\n",
      "Epoch [16000], Total Loss: 6.2534e-01, PDE Loss: 3.0920e+02, Initial boundary Loss: 5.4542e-05, final boundary Loss: 1.5393e-02\n",
      "Epoch [17000], Total Loss: 6.7253e-01, PDE Loss: 2.9857e+02, Initial boundary Loss: 1.6743e-04, final boundary Loss: 1.6772e-01\n",
      "Epoch [18000], Total Loss: 5.7067e-01, PDE Loss: 2.7295e+02, Initial boundary Loss: 4.6948e-06, final boundary Loss: 5.5146e-02\n",
      "Epoch [19000], Total Loss: 4.8017e-01, PDE Loss: 2.3945e+02, Initial boundary Loss: 5.0995e-05, final boundary Loss: 2.8003e-03\n",
      "Epoch [20000], Total Loss: 3.9879e-01, PDE Loss: 1.9578e+02, Initial boundary Loss: 3.9834e-04, final boundary Loss: 1.5688e-02\n",
      "Epoch [21000], Total Loss: 4.5132e-01, PDE Loss: 1.4041e+02, Initial boundary Loss: 5.3652e-04, final boundary Loss: 3.7920e-01\n",
      "Epoch [22000], Total Loss: 1.9702e-01, PDE Loss: 9.4567e+01, Initial boundary Loss: 4.9630e-04, final boundary Loss: 1.7070e-02\n",
      "Epoch [23000], Total Loss: 3.4360e-01, PDE Loss: 6.7712e+01, Initial boundary Loss: 8.5504e-05, final boundary Loss: 4.6355e-01\n",
      "Epoch [24000], Total Loss: 1.0709e-01, PDE Loss: 5.3498e+01, Initial boundary Loss: 5.9605e-08, final boundary Loss: 2.1146e-04\n",
      "Epoch [25000], Total Loss: 1.0153e-01, PDE Loss: 4.7030e+01, Initial boundary Loss: 2.5183e-06, final boundary Loss: 1.6633e-02\n",
      "Epoch [26000], Total Loss: 9.2152e-02, PDE Loss: 4.3724e+01, Initial boundary Loss: 9.0659e-05, final boundary Loss: 1.0388e-02\n",
      "Epoch [27000], Total Loss: 9.4489e-02, PDE Loss: 4.0534e+01, Initial boundary Loss: 3.8147e-06, final boundary Loss: 2.9888e-02\n",
      "Epoch [28000], Total Loss: 7.7600e-02, PDE Loss: 3.7774e+01, Initial boundary Loss: 1.0073e-05, final boundary Loss: 4.5579e-03\n",
      "Epoch [29000], Total Loss: 1.9518e-01, PDE Loss: 3.5945e+01, Initial boundary Loss: 1.2103e-05, final boundary Loss: 2.7458e-01\n",
      "Epoch [30000], Total Loss: 1.0748e-01, PDE Loss: 3.3896e+01, Initial boundary Loss: 1.0464e-05, final boundary Loss: 8.8393e-02\n",
      "Epoch [31000], Total Loss: 9.5488e-02, PDE Loss: 3.0918e+01, Initial boundary Loss: 3.5800e-06, final boundary Loss: 7.4943e-02\n",
      "Epoch [32000], Total Loss: 6.4206e-02, PDE Loss: 2.9847e+01, Initial boundary Loss: 1.8112e-04, final boundary Loss: 9.8674e-03\n",
      "Epoch [33000], Total Loss: 2.8495e-01, PDE Loss: 2.8321e+01, Initial boundary Loss: 4.8280e-06, final boundary Loss: 5.0849e-01\n",
      "Epoch [34000], Total Loss: 7.1130e-02, PDE Loss: 2.6175e+01, Initial boundary Loss: 5.3793e-06, final boundary Loss: 4.1823e-02\n",
      "Epoch [35000], Total Loss: 1.0854e-01, PDE Loss: 2.4928e+01, Initial boundary Loss: 8.7628e-06, final boundary Loss: 1.3068e-01\n",
      "Epoch [36000], Total Loss: 5.9464e-02, PDE Loss: 2.4080e+01, Initial boundary Loss: 1.6474e-05, final boundary Loss: 2.5159e-02\n",
      "Epoch [37000], Total Loss: 5.2882e-02, PDE Loss: 2.2256e+01, Initial boundary Loss: 6.8881e-06, final boundary Loss: 1.8636e-02\n",
      "Epoch [38000], Total Loss: 2.9823e-01, PDE Loss: 2.1125e+01, Initial boundary Loss: 3.5800e-06, final boundary Loss: 5.7011e-01\n",
      "Epoch [39000], Total Loss: 4.8119e-02, PDE Loss: 2.1306e+01, Initial boundary Loss: 2.7874e-05, final boundary Loss: 1.2238e-02\n"
     ]
    }
   ],
   "source": [
    "s= time.time()\n",
    "batch_size = 50\n",
    "num_batches = len(x_data) // batch_size\n",
    "for epoch in range(# make trails):\n",
    "    for i in range(num_batches):\n",
    "        start_idx = i * batch_size\n",
    "        end_idx = (i + 1) * batch_size\n",
    "        batch_x_data = x_data[start_idx:end_idx]\n",
    "\n",
    "        optimizer.zero_grad()\n",
    "\n",
    "        pde_loss_val = pde_loss(model, batch_x_data)\n",
    "        initial_loss = initial_boundary_loss(model, device)  # Call the function and use .item()\n",
    "        final_loss = final_boundary_loss(model, device) # Call the function and use .item()\n",
    "\n",
    "\n",
    "\n",
    "        total_loss = pde_loss_val + initial_loss + final_loss\n",
    "        total_loss.backward()\n",
    "        optimizer.step()\n",
    "\n",
    "    if epoch % 1000 == 0:\n",
    "        print(f\"Epoch [{epoch}], Total Loss: {total_loss:.4e}, PDE Loss: {pde_loss_val.item():.4e}, Initial boundary Loss: {initial_loss:.4e}, final boundary Loss: {final_loss:.4e}\")\n",
    "\n",
    "\n",
    "    # Test the trained model\n",
    "    with torch.no_grad():\n",
    "        T_pred = model(torch.tensor(x_data, dtype=torch.float32))\n",
    "\n",
    "e= time.time()\n",
    "\n"
   ]
  },
  {
   "cell_type": "code",
   "execution_count": 9,
   "id": "ff68080c-3e83-4689-b599-cc97497921f5",
   "metadata": {},
   "outputs": [
    {
     "name": "stdout",
     "output_type": "stream",
     "text": [
      "2.7746756156285604\n"
     ]
    }
   ],
   "source": [
    "print((e-s)/60)"
   ]
  },
  {
   "cell_type": "code",
   "execution_count": 10,
   "id": "cd435b7f",
   "metadata": {
    "id": "cd435b7f",
    "outputId": "0b2b9dd3-2d7c-4660-f165-45785dccd918"
   },
   "outputs": [
    {
     "data": {
      "text/plain": [
       "torch.Size([101, 1])"
      ]
     },
     "execution_count": 10,
     "metadata": {},
     "output_type": "execute_result"
    }
   ],
   "source": [
    "T_pred.shape"
   ]
  },
  {
   "cell_type": "code",
   "execution_count": 11,
   "id": "8e197d24",
   "metadata": {
    "id": "8e197d24",
    "outputId": "55a811ff-c371-4425-f1a0-ce794f10bdb2"
   },
   "outputs": [
    {
     "data": {
      "text/plain": [
       "(101, 1)"
      ]
     },
     "execution_count": 11,
     "metadata": {},
     "output_type": "execute_result"
    }
   ],
   "source": [
    "T_pred=T_pred.cpu().detach().numpy()\n",
    "T_pred.shape"
   ]
  },
  {
   "cell_type": "code",
   "execution_count": 12,
   "id": "dc0f0264",
   "metadata": {
    "id": "dc0f0264",
    "outputId": "7671e667-5f18-4f4c-fac6-712880bb8141"
   },
   "outputs": [
    {
     "data": {
      "text/plain": [
       "101"
      ]
     },
     "execution_count": 12,
     "metadata": {},
     "output_type": "execute_result"
    }
   ],
   "source": [
    "T_pred.size"
   ]
  },
  {
   "cell_type": "code",
   "execution_count": 13,
   "id": "86531e49",
   "metadata": {
    "id": "86531e49",
    "outputId": "317b2088-0b4d-4855-9857-9275c6fed66b"
   },
   "outputs": [
    {
     "data": {
      "text/plain": [
       "(101, 1)"
      ]
     },
     "execution_count": 13,
     "metadata": {},
     "output_type": "execute_result"
    }
   ],
   "source": [
    "x_data=x_data.cpu().detach().numpy()\n",
    "x_data.shape"
   ]
  },
  {
   "cell_type": "code",
   "execution_count": 14,
   "id": "ce74e3fa",
   "metadata": {
    "id": "ce74e3fa"
   },
   "outputs": [],
   "source": [
    "x_data=x_data.reshape(101)"
   ]
  },
  {
   "cell_type": "code",
   "execution_count": 15,
   "id": "eba9cce3",
   "metadata": {
    "id": "eba9cce3",
    "outputId": "41f3b0c1-ee8d-4c3a-dc39-de1b79cc023a"
   },
   "outputs": [
    {
     "data": {
      "text/plain": [
       "array([99.49744], dtype=float32)"
      ]
     },
     "execution_count": 15,
     "metadata": {},
     "output_type": "execute_result"
    }
   ],
   "source": [
    "\n",
    "T_pred[-1]\n"
   ]
  },
  {
   "cell_type": "code",
   "execution_count": 16,
   "id": "38dc17d3",
   "metadata": {
    "id": "38dc17d3",
    "outputId": "caed9247-0d18-4f4f-d6d6-86632408f69f"
   },
   "outputs": [
    {
     "name": "stdout",
     "output_type": "stream",
     "text": [
      "Epoch [39999/1000], Total Loss: 1.2287e-01, PDE Loss: 1.8474e+01, Initial boundary Loss: 4.3064e-06, final boundary Loss: 1.9137e-01\n"
     ]
    }
   ],
   "source": [
    " print(f\"Epoch [{epoch}/1000], Total Loss: {total_loss:.4e}, PDE Loss: {pde_loss_val.item():.4e}, Initial boundary Loss: {initial_loss:.4e}, final boundary Loss: {final_loss:.4e}\")\n",
    "\n"
   ]
  },
  {
   "cell_type": "code",
   "execution_count": 17,
   "id": "672db55e",
   "metadata": {
    "id": "672db55e"
   },
   "outputs": [],
   "source": [
    "x_data=np.arange(x, dx+l, dx)\n",
    "T_data = -q/2/k*x_data*x_data + ((T_f-T_i)/l + q/2/k*l)*x_data + T_i\n"
   ]
  },
  {
   "cell_type": "code",
   "execution_count": 18,
   "id": "de0bed94",
   "metadata": {
    "id": "de0bed94",
    "outputId": "c992cbd1-0c73-4804-d75c-b45ab2e30564"
   },
   "outputs": [
    {
     "data": {
      "image/png": "[encoded data removed]",
      "text/plain": [
       "<Figure size 640x480 with 1 Axes>"
      ]
     },
     "metadata": {},
     "output_type": "display_data"
    }
   ],
   "source": [
    "\n",
    "plt.title('Training set')\n",
    "\n",
    "plt.scatter(x_data, T_pred, label='T_predicted', color='blue', marker='o')\n",
    "plt.scatter(x_data, T_data, label='T_actual', color='red', marker='x')\n",
    "\n",
    "\n",
    "plt.xlabel('x_distance')\n",
    "plt.ylabel('Temperature')\n",
    "plt.legend()\n",
    "plt.show()"
   ]
  },
  {
   "cell_type": "code",
   "execution_count": 19,
   "id": "b5483683",
   "metadata": {
    "id": "b5483683",
    "outputId": "0d62a5f5-d6c3-48a3-e389-a4d53d817e00"
   },
   "outputs": [
    {
     "data": {
      "text/plain": [
       "<matplotlib.legend.Legend at 0x7f746c117810>"
      ]
     },
     "execution_count": 19,
     "metadata": {},
     "output_type": "execute_result"
    },
    {
     "data": {
      "image/png": "[encoded data removed]",
      "text/plain": [
       "<Figure size 640x480 with 1 Axes>"
      ]
     },
     "metadata": {},
     "output_type": "display_data"
    }
   ],
   "source": [
    "fig, ax1 = plt.subplots()\n",
    "ax1.plot(x_data,T_data,linestyle='--', dashes=(1, 0.5),color='red',label='Real')\n",
    "ax1.plot(x_data,T_pred,linestyle='--', dashes=(5, 5),color='blue',label='Predicted')\n",
    "#ax1.plot(x,f_x_plot,color='green',label='Derivative')\n",
    "ax1.set_xlabel('x_distance',color='black')\n",
    "ax1.set_ylabel('Temperature',color='black')\n",
    "ax1.tick_params(axis='y', color='black')\n",
    "ax1.legend(loc = 'upper right')"
   ]
  },
  {
   "cell_type": "code",
   "execution_count": null,
   "id": "a89bec82",
   "metadata": {
    "id": "a89bec82"
   },
   "outputs": [],
   "source": []
  }
 ],
 "metadata": {
  "colab": {
   "provenance": []
  },
  "kernelspec": {
   "display_name": "Python 3 (ipykernel)",
   "language": "python",
   "name": "python3"
  },
  "language_info": {
   "codemirror_mode": {
    "name": "ipython",
    "version": 3
   },
   "file_extension": ".py",
   "mimetype": "text/x-python",
   "name": "python",
   "nbconvert_exporter": "python",
   "pygments_lexer": "ipython3",
   "version": "3.11.5"
  }
 },
 "nbformat": 4,
 "nbformat_minor": 5
}
